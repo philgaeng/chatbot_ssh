{
 "cells": [
  {
   "cell_type": "markdown",
   "metadata": {},
   "source": [
    "This section is to test Rasa directly from the notebook"
   ]
  },
  {
   "cell_type": "code",
   "execution_count": null,
   "metadata": {},
   "outputs": [
    {
     "name": "stdout",
     "output_type": "stream",
     "text": [
      "^C\n",
      "Traceback (most recent call last):\n",
      "  File \"/opt/homebrew/Caskroom/miniforge/base/envs/rasa_env/bin/rasa\", line 5, in <module>\n",
      "    from rasa.__main__ import main\n",
      "  File \"/opt/homebrew/Caskroom/miniforge/base/envs/rasa_env/lib/python3.9/site-packages/rasa/__main__.py\", line 15, in <module>\n",
      "    from rasa.cli import (\n",
      "  File \"/opt/homebrew/Caskroom/miniforge/base/envs/rasa_env/lib/python3.9/site-packages/rasa/cli/data.py\", line 11, in <module>\n",
      "    import rasa.cli.utils\n",
      "  File \"/opt/homebrew/Caskroom/miniforge/base/envs/rasa_env/lib/python3.9/site-packages/rasa/cli/utils.py\", line 14, in <module>\n",
      "    from rasa.shared.importers.importer import TrainingDataImporter\n",
      "  File \"/opt/homebrew/Caskroom/miniforge/base/envs/rasa_env/lib/python3.9/site-packages/rasa/shared/importers/importer.py\", line 20, in <module>\n",
      "    from rasa.shared.nlu.training_data.training_data import TrainingData\n",
      "  File \"/opt/homebrew/Caskroom/miniforge/base/envs/rasa_env/lib/python3.9/site-packages/rasa/shared/nlu/training_data/training_data.py\", line 27, in <module>\n",
      "    from rasa.shared.nlu.training_data import util\n",
      "  File \"/opt/homebrew/Caskroom/miniforge/base/envs/rasa_env/lib/python3.9/site-packages/rasa/shared/nlu/training_data/util.py\", line 7, in <module>\n",
      "    import scipy.sparse\n",
      "  File \"<frozen importlib._bootstrap>\", line 1007, in _find_and_load\n",
      "  File \"<frozen importlib._bootstrap>\", line 982, in _find_and_load_unlocked\n",
      "  File \"<frozen importlib._bootstrap>\", line 925, in _find_spec\n",
      "  File \"/opt/homebrew/Caskroom/miniforge/base/envs/rasa_env/lib/python3.9/site-packages/_distutils_hack/__init__.py\", line 95, in find_spec\n",
      "    method_name = 'spec_for_{fullname}'.format(**locals())\n",
      "KeyboardInterrupt\n",
      "/opt/homebrew/Caskroom/miniforge/base/envs/rasa_env/lib/python3.9/site-packages/rasa/core/tracker_store.py:1044: MovedIn20Warning: \u001b[31mDeprecated API features detected! These feature(s) are not compatible with SQLAlchemy 2.0. \u001b[32mTo prevent incompatible upgrades prior to updating applications, ensure requirements files are pinned to \"sqlalchemy<2.0\". \u001b[36mSet environment variable SQLALCHEMY_WARN_20=1 to show all deprecation warnings.  Set environment variable SQLALCHEMY_SILENCE_UBER_WARNING=1 to silence this message.\u001b[0m (Background on SQLAlchemy 2.0 at: https://sqlalche.me/e/b8d9)\n",
      "  Base: DeclarativeMeta = declarative_base()\n",
      "2024-11-28 10:31:00 \u001b[1;30mWARNING \u001b[0m \u001b[34mrasa.utils.common\u001b[0m  - \u001b[33mFailed to write global config. Error: [Errno 13] Permission denied: '/Users/philippegaeng/.config/rasa'. Skipping.\u001b[0m\n",
      "/opt/homebrew/Caskroom/miniforge/base/envs/rasa_env/lib/python3.9/site-packages/tensorflow/lite/python/util.py:52: DeprecationWarning: jax.xla_computation is deprecated. Please use the AOT APIs.\n",
      "  from jax import xla_computation as _xla_computation\n",
      "/opt/homebrew/Caskroom/miniforge/base/envs/rasa_env/lib/python3.9/site-packages/apscheduler/__init__.py:1: DeprecationWarning: pkg_resources is deprecated as an API. See https://setuptools.pypa.io/en/latest/pkg_resources.html\n",
      "  from pkg_resources import get_distribution, DistributionNotFound\n",
      "/opt/homebrew/Caskroom/miniforge/base/envs/rasa_env/lib/python3.9/site-packages/pkg_resources/__init__.py:2871: DeprecationWarning: Deprecated call to `pkg_resources.declare_namespace('mpl_toolkits')`.\n",
      "Implementing implicit namespace packages (as specified in PEP 420) is preferred to `pkg_resources.declare_namespace`. See https://setuptools.pypa.io/en/latest/references/keywords.html#keyword-namespace-packages\n",
      "  declare_namespace(pkg)\n",
      "/opt/homebrew/Caskroom/miniforge/base/envs/rasa_env/lib/python3.9/site-packages/pkg_resources/__init__.py:2871: DeprecationWarning: Deprecated call to `pkg_resources.declare_namespace('ruamel')`.\n",
      "Implementing implicit namespace packages (as specified in PEP 420) is preferred to `pkg_resources.declare_namespace`. See https://setuptools.pypa.io/en/latest/references/keywords.html#keyword-namespace-packages\n",
      "  declare_namespace(pkg)\n",
      "/opt/homebrew/Caskroom/miniforge/base/envs/rasa_env/lib/python3.9/site-packages/sanic_cors/extension.py:39: DeprecationWarning: distutils Version classes are deprecated. Use packaging.version instead.\n",
      "  SANIC_VERSION = LooseVersion(sanic_version)\n",
      "2024-11-28 10:31:04 \u001b[1;30mINFO    \u001b[0m \u001b[34mroot\u001b[0m  - Connecting to channel 'cmdline' which was specified by the '--connector' argument. Any other channels will be ignored. To connect to all given channels, omit the '--connector' argument.\n",
      "2024-11-28 10:31:04 \u001b[1;30mINFO    \u001b[0m \u001b[34mroot\u001b[0m  - Starting Rasa server on http://0.0.0.0:5005\n",
      "2024-11-28 10:31:04 \u001b[1;30mINFO    \u001b[0m \u001b[34mrasa.core.processor\u001b[0m  - Loading model models/20241128-101630-moist-outboard.tar.gz...\n",
      "2024-11-28 10:31:04 \u001b[1;30mINFO    \u001b[0m \u001b[34mrasa.nlu.utils.spacy_utils\u001b[0m  - Trying to load SpaCy model with name 'en_core_web_md'.\n",
      "2024-11-28 10:31:06 \u001b[1;30mINFO    \u001b[0m \u001b[34mrasa.nlu.utils.spacy_utils\u001b[0m  - Trying to load SpaCy model with name 'en_core_web_md'.\n",
      "Metal device set to: Apple M1 Pro\n",
      "\n",
      "systemMemory: 16.00 GB\n",
      "maxCacheSize: 5.33 GB\n",
      "\n",
      "2024-11-28 10:31:07 \u001b[1;30mWARNING \u001b[0m \u001b[34mabsl\u001b[0m  - \u001b[33mAt this time, the v2.11+ optimizer `tf.keras.optimizers.Adam` runs slowly on M1/M2 Macs, please use the legacy Keras optimizer instead, located at `tf.keras.optimizers.legacy.Adam`.\u001b[0m\n",
      "2024-11-28 10:31:07 \u001b[1;30mWARNING \u001b[0m \u001b[34mabsl\u001b[0m  - \u001b[33mThere is a known slowdown when using v2.11+ Keras optimizers on M1/M2 Macs. Falling back to the legacy Keras optimizer, i.e., `tf.keras.optimizers.legacy.Adam`.\u001b[0m\n"
     ]
    }
   ],
   "source": [
    "# Train the Rasa chatbot\n",
    "!rasa train\n",
    "\n",
    "# Test the chatbot in shell mode\n",
    "!rasa shell\n"
   ]
  },
  {
   "cell_type": "code",
   "execution_count": null,
   "metadata": {},
   "outputs": [],
   "source": []
  }
 ],
 "metadata": {
  "kernelspec": {
   "display_name": "rasa_env",
   "language": "python",
   "name": "python3"
  },
  "language_info": {
   "codemirror_mode": {
    "name": "ipython",
    "version": 3
   },
   "file_extension": ".py",
   "mimetype": "text/x-python",
   "name": "python",
   "nbconvert_exporter": "python",
   "pygments_lexer": "ipython3",
   "version": "3.9.20"
  }
 },
 "nbformat": 4,
 "nbformat_minor": 2
}

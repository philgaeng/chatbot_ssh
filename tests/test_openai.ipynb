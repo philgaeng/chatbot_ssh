{
 "cells": [
  {
   "cell_type": "code",
   "execution_count": 24,
   "metadata": {},
   "outputs": [
    {
     "name": "stdout",
     "output_type": "stream",
     "text": [
      "OpenAI key is loaded\n"
     ]
    }
   ],
   "source": [
    "import csv\n",
    "import traceback\n",
    "from openai import OpenAI\n",
    "import os\n",
    "import re\n",
    "from dotenv import load_dotenv\n",
    "\n",
    "load_dotenv('/home/ubuntu/nepal_chatbot/.env')\n",
    "open_ai_key = os.getenv(\"OPENAI_API_KEY\")\n",
    "\n",
    "try:\n",
    "    if open_ai_key:\n",
    "        print(\"OpenAI key is loaded\")\n",
    "    else:\n",
    "        raise ValueError(\"OpenAI key is not set\")\n",
    "except Exception as e:\n",
    "    print(f\"Error loading OpenAI API key: {e}\")"
   ]
  },
  {
   "cell_type": "code",
   "execution_count": 3,
   "metadata": {},
   "outputs": [
    {
     "name": "stdout",
     "output_type": "stream",
     "text": [
      "['Environmental - Drainage And Sewage Management', 'Destruction Of Agrarian Resources - Crop Destruction', 'Wildlife, Environmental - Wildlife Passage', 'Wildlife, Environmental - Wildlife Destruction', 'Relocation Of Public Utilities - Access To Electricity', 'Relocation Issues - Forced Relocation Issues', 'Relocation Issues - Lack Of Infrastructure Of The Resettlement Site', 'Environmental - Noise Pollution', 'Cultural, Social - Cultural Site Disturbances', 'Destruction Of Agrarian Resources - Soil Pollution', 'Environmental - Air Pollution', 'Malicious Behavior, Environmental - Fire Incidents', 'Economic, Social - Employment Opportunities', 'Relocation Issues - Poor Location Of The Resettlement Site', 'Malicious Behavior - Theft Of Crops', 'Safety - Road Safety Provisions', 'Destruction Of Agrarian Resources - Destruction Of Agrarian Soils', 'Economic, Social - Land Acquisition Issues', 'Relocation Of Public Utilities - Access To Water', 'Environmental, Social - Cutting Of Trees', 'Relocation Issues - Poor Housing Quality Of The Resettlement Site', 'Gender, Social - Gender-Based Access Issues', 'Malicious Behavior - Theft Of Tools Or Equipment']\n"
     ]
    }
   ],
   "source": [
    "# class ActionCaptureGrievanceText(Action):\n",
    "#     def name(self) -> Text:\n",
    "#         return \"action_capture_grievance_text\"\n",
    "\n",
    "def load_classification_data(file_path):\n",
    "    \"\"\"Loads grievance classification data from CSV into a dictionary\"\"\"\n",
    "    categories = []\n",
    "    try:\n",
    "        with open(file_path, \"r\", encoding=\"utf-8\") as csvfile:\n",
    "            reader = csv.DictReader(csvfile)\n",
    "            for row in reader:\n",
    "                categories.append(row[\"Classification\"].title() + \" - \" + row[\"Generic Grievance Name\"].title())  # Normalize case\n",
    "    except Exception as e:\n",
    "        print(f\"Error loading CSV file: {e}\")\n",
    "        traceback.print_exc()\n",
    "    return list(set(categories))\n",
    "\n",
    "cat_path = '/home/ubuntu/nepal_chatbot/resources/grievances_categorization_v1.csv'\n",
    "\n",
    "print(load_classification_data(cat_path))"
   ]
  },
  {
   "cell_type": "code",
   "execution_count": null,
   "metadata": {},
   "outputs": [
    {
     "name": "stdout",
     "output_type": "stream",
     "text": [
      "Category 1: Destruction Of Agrarian Resources - Crop Destruction, Category 2: Malicious Behavior - Theft Of Crops, Category 3: Wildlife, Environmental - Wildlife Destruction - END Category\n",
      "\n",
      "Grievance Summary: Someone killed my pet bird and took my food grain - END Summary\n",
      "Someone killed my pet bird and took my food grain\n",
      "['1: Destruction Of Agrarian Resources - Crop Destruction, ', '2: Malicious Behavior - Theft Of Crops, ', '3: Wildlife, Environmental - Wildlife Destruction']\n",
      "1: Destruction Of Agrarian Resources - Crop Destruction, \n",
      "2: Malicious Behavior - Theft Of Crops, \n",
      "3: Wildlife, Environmental - Wildlife Destruction\n",
      "{'grievance_summary': 'Someone killed my pet bird and took my food grain', 'category_1': 'Destruction Of Agrarian Resources - Crop Destruction', 'category_2': 'Malicious Behavior - Theft Of Crops', 'category_3': 'Wildlife, Environmental - Wildlife Destruction'}\n",
      "{'grievance_summary': 'Someone killed my pet bird and took my food grain', 'category_1': 'Destruction Of Agrarian Resources - Crop Destruction', 'category_2': 'Malicious Behavior - Theft Of Crops', 'category_3': 'Wildlife, Environmental - Wildlife Destruction'} 3\n",
      "None\n"
     ]
    }
   ],
   "source": [
    "# def run(self, dispatcher: CollectingDispatcher, tracker: Tracker, domain: Dict[Text, Any]) -> List[Dict[Text, Any]]:\n",
    "#     grievance_details = tracker.latest_message.get(\"text\")\n",
    "#     print(f\"User input: {grievance_details}\")\n",
    "\n",
    "def open_ai_categorization(grievance_details, csv_file_path):\n",
    "    # Load CSV Data\n",
    "    # csv_file_path = \"/home/ubuntu/nepal_chatbot/resources/grievances_categorization_v1.csv\"\n",
    "    classification_data = load_classification_data(csv_file_path)\n",
    "\n",
    "\n",
    "    # Step 1: use OpenAI but restrict the category choices\n",
    "    predefined_categories = load_classification_data(csv_file_path)# Extract unique categories\n",
    "    category_list_str = \"\\n\".join(f\"- {c}\" for c in predefined_categories)  # Format as list\n",
    "\n",
    "    client = OpenAI(api_key=open_ai_key)\n",
    "        \n",
    "    response = client.chat.completions.create(\n",
    "        messages=[\n",
    "            {\"role\": \"system\", \"content\": \"You are an assistant helping to categorize grievances.\"},\n",
    "            {\"role\": \"user\", \"content\": f\"\"\"\n",
    "                Step 1:\n",
    "                Categorize this grievance: \"{grievance_details}\"\n",
    "                Only choose from the following categories:\n",
    "                {category_list_str}\n",
    "                Do not create new categories.\n",
    "                Reply only with the categories, if many categories apply just list them with the following format:\n",
    "                Category 1: category, Category 2: category, Category 3: category etc when applicable - END Category\n",
    "                \n",
    "                Step 2: summarize the grievance with simple and direct words so they can be understood with people with limited litteracy.\n",
    "                Provide your answer with the following format\n",
    "                Grievance Summary: lorum ipsum etc - END Summary\n",
    "                \n",
    "            \"\"\"}\n",
    "        ],\n",
    "        model=\"gpt-4\",\n",
    "\n",
    "    )\n",
    "\n",
    "    result = response.choices[0].message.content.strip()\n",
    "    print(result)\n",
    "    #Step 2 : parse the results\n",
    "    \n",
    "    result_dict = parse_summary_and_category(result)\n",
    "    \n",
    "    n = 0\n",
    "    print(result_dict)\n",
    "    for k in result_dict.keys():\n",
    "        n+=1 if \"category\" in k else n\n",
    "\n",
    "    \n",
    "    print(result_dict, n)\n",
    "\n",
    "    # # Step 2: Validate category with the user\n",
    "    # buttons = [\n",
    "    #     {\"title\": \"Yes\", \"payload\": \"/agree\"},\n",
    "    #     {\"title\": \"No, choose another category\", \"payload\": \"/deny\"},\n",
    "    #     {\"title\": \"Exit\", \"payload\": \"/exit_grievance_process\"}\n",
    "    # ]\n",
    "\n",
    "    # # dispatcher.utter_message(\n",
    "    # #     text=f\"Here's the category I identified: '{best_category}'. Does this seem correct?\",\n",
    "    # #     buttons=buttons\n",
    "    # # )\n",
    "    # print(f\"Here's the category I identified: '{best_category}'. Does this seem correct?\")\n",
    "\n",
    "    # # return [\n",
    "    # #     SlotSet(\"grievance_details\", grievance_details),\n",
    "    # #     SlotSet(\"grievance_category\", best_category)\n",
    "    # # ]\n",
    "\n",
    "def parse_summary_and_category(result: str):\n",
    "    \"\"\"\n",
    "    Parse the result from OpenAI to extract the grievance summary and categories into a structured dictionary.\n",
    "    \"\"\"\n",
    "\n",
    "    # Extract category using regex\n",
    "    category_match = re.search(r'Category.*?- END Category', result, re.DOTALL)\n",
    "    category_text = category_match.group(0).replace(\"- END Category\", \"\").strip() if category_match else \"\"\n",
    "\n",
    "    # Extract summary using regex\n",
    "    summary_match = re.search(r'Grievance Summary: (.*?)- END Summary', result, re.DOTALL)\n",
    "    grievance_summary = summary_match.group(1).strip() if summary_match else \"\"\n",
    "    print(grievance_summary)\n",
    "\n",
    "    # Initialize result dictionary\n",
    "    result_dict = {\"grievance_summary\": grievance_summary}\n",
    "    \n",
    "\n",
    "    # Process category string dynamically\n",
    "    if category_text:\n",
    "        category_list = category_text.split(\"Category \")\n",
    "        category_list = [i for i in category_list if len(i)> 0 and \"Category\" not in i]\n",
    "        print(category_list)\n",
    "        # idx = 1\n",
    "        for idx, category in enumerate(category_list, start =1):\n",
    "            print(category)\n",
    "            result_dict[f\"category_{idx}\"] = category.split(\": \")[1].strip().strip(',') # Extract category name\n",
    "\n",
    "    return result_dict\n",
    "    \n",
    "grievance = \"tehy killed my duck and stole my rice\"\n",
    "\n",
    "print(open_ai_categorization(grievance, cat_path))"
   ]
  },
  {
   "cell_type": "code",
   "execution_count": null,
   "metadata": {},
   "outputs": [],
   "source": []
  },
  {
   "cell_type": "code",
   "execution_count": null,
   "metadata": {},
   "outputs": [],
   "source": []
  }
 ],
 "metadata": {
  "kernelspec": {
   "display_name": "rasa-env",
   "language": "python",
   "name": "python3"
  },
  "language_info": {
   "codemirror_mode": {
    "name": "ipython",
    "version": 3
   },
   "file_extension": ".py",
   "mimetype": "text/x-python",
   "name": "python",
   "nbconvert_exporter": "python",
   "pygments_lexer": "ipython3",
   "version": "3.8.20"
  }
 },
 "nbformat": 4,
 "nbformat_minor": 2
}

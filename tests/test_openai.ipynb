{
 "cells": [
  {
   "cell_type": "code",
   "execution_count": 12,
   "metadata": {},
   "outputs": [
    {
     "name": "stdout",
     "output_type": "stream",
     "text": [
      "OpenAI key is loaded\n"
     ]
    }
   ],
   "source": [
    "import csv\n",
    "import traceback\n",
    "from openai import OpenAI\n",
    "import os\n",
    "from dotenv import load_dotenv\n",
    "\n",
    "load_dotenv('/home/ubuntu/nepal_chatbot/.env')\n",
    "open_ai_key = os.getenv(\"OPENAI_API_KEY\")\n",
    "\n",
    "try:\n",
    "    if open_ai_key:\n",
    "        print(\"OpenAI key is loaded\")\n",
    "    else:\n",
    "        raise ValueError(\"OpenAI key is not set\")\n",
    "except Exception as e:\n",
    "    print(f\"Error loading OpenAI API key: {e}\")"
   ]
  },
  {
   "cell_type": "code",
   "execution_count": 11,
   "metadata": {},
   "outputs": [
    {
     "name": "stdout",
     "output_type": "stream",
     "text": [
      "['Wildlife, Environmental - Wildlife Passage', 'Gender, Social - Gender-Based Access Issues', 'Malicious Behavior, Environmental - Fire Incidents', 'Relocation Issues - Lack Of Infrastructure Of The Resettlement Site', 'Destruction Of Agrarian Resources - Soil Pollution', 'Environmental, Social - Cutting Of Trees', 'Environmental - Noise Pollution', 'Relocation Issues - Forced Relocation Issues', 'Economic, Social - Employment Opportunities', 'Cultural, Social - Cultural Site Disturbances', 'Economic, Social - Land Acquisition Issues', 'Relocation Issues - Poor Location Of The Resettlement Site', 'Safety - Road Safety Provisions', 'Destruction Of Agrarian Resources - Crop Destruction', 'Relocation Issues - Poor Housing Quality Of The Resettlement Site', 'Destruction Of Agrarian Resources - Destruction Of Agrarian Soils', 'Relocation Of Public Utilities - Access To Electricity', 'Malicious Behavior - Theft Of Tools Or Equipment', 'Environmental - Drainage And Sewage Management', 'Wildlife, Environmental - Wildlife Destruction', 'Environmental - Air Pollution', 'Relocation Of Public Utilities - Access To Water', 'Malicious Behavior - Theft Of Crops']\n"
     ]
    }
   ],
   "source": [
    "# class ActionCaptureGrievanceText(Action):\n",
    "#     def name(self) -> Text:\n",
    "#         return \"action_capture_grievance_text\"\n",
    "\n",
    "def load_classification_data(file_path):\n",
    "    \"\"\"Loads grievance classification data from CSV into a dictionary\"\"\"\n",
    "    categories = []\n",
    "    try:\n",
    "        with open(file_path, \"r\", encoding=\"utf-8\") as csvfile:\n",
    "            reader = csv.DictReader(csvfile)\n",
    "            for row in reader:\n",
    "                categories.append(row[\"Classification\"].title() + \" - \" + row[\"Generic Grievance Name\"].title())  # Normalize case\n",
    "    except Exception as e:\n",
    "        print(f\"Error loading CSV file: {e}\")\n",
    "        traceback.print_exc()\n",
    "    return list(set(categories))\n",
    "\n",
    "cat_path = '/home/ubuntu/nepal_chatbot/resources/grievances_categorization_v1.csv'\n",
    "\n",
    "print(load_classification_data(cat_path))"
   ]
  },
  {
   "cell_type": "code",
   "execution_count": 20,
   "metadata": {},
   "outputs": [
    {
     "name": "stdout",
     "output_type": "stream",
     "text": [
      "1: Wildlife, Environmental - Wildlife Destruction, 2: Malicious Behavior - Theft Of Crops\n"
     ]
    }
   ],
   "source": [
    "# def run(self, dispatcher: CollectingDispatcher, tracker: Tracker, domain: Dict[Text, Any]) -> List[Dict[Text, Any]]:\n",
    "#     grievance_details = tracker.latest_message.get(\"text\")\n",
    "#     print(f\"User input: {grievance_details}\")\n",
    "\n",
    "def open_ai_categorization(grievance_details, csv_file_path):\n",
    "    # Load CSV Data\n",
    "    # csv_file_path = \"/home/ubuntu/nepal_chatbot/resources/grievances_categorization_v1.csv\"\n",
    "    classification_data = load_classification_data(csv_file_path)\n",
    "\n",
    "\n",
    "    # Step 1: use OpenAI but restrict the category choices\n",
    "    predefined_categories = load_classification_data(csv_file_path)# Extract unique categories\n",
    "    category_list_str = \"\\n\".join(f\"- {c}\" for c in predefined_categories)  # Format as list\n",
    "\n",
    "    client = OpenAI(api_key=open_ai_key)\n",
    "\n",
    "    response = client.chat.completions.create(\n",
    "        messages=[\n",
    "            {\"role\": \"system\", \"content\": \"You are an assistant helping to categorize grievances.\"},\n",
    "            {\"role\": \"user\", \"content\": f\"\"\"\n",
    "                Categorize this grievance: \"{grievance_details}\"\n",
    "                Only choose from the following categories:\n",
    "                {category_list_str}\n",
    "                Do not create new categories.\n",
    "                Reply only with the categories, if many categories apply just list them with the following format:\n",
    "                1: category, 2: category, 3: category etc when applicable\n",
    "            \"\"\"}\n",
    "        ],\n",
    "        model=\"gpt-4\",\n",
    "    )\n",
    "\n",
    "    best_category = response.choices[0].message.content.strip()\n",
    "    return(best_category)\n",
    "\n",
    "    # # Step 2: Validate category with the user\n",
    "    # buttons = [\n",
    "    #     {\"title\": \"Yes\", \"payload\": \"/agree\"},\n",
    "    #     {\"title\": \"No, choose another category\", \"payload\": \"/deny\"},\n",
    "    #     {\"title\": \"Exit\", \"payload\": \"/exit_grievance_process\"}\n",
    "    # ]\n",
    "\n",
    "    # dispatcher.utter_message(\n",
    "    #     text=f\"Here's the category I identified: '{best_category}'. Does this seem correct?\",\n",
    "    #     buttons=buttons\n",
    "    # )\n",
    "\n",
    "    # return [\n",
    "    #     SlotSet(\"grievance_details\", grievance_details),\n",
    "    #     SlotSet(\"grievance_category\", best_category)\n",
    "    # ]\n",
    "grievance = \"tehy killed my duck and stole my rice\"\n",
    "\n",
    "print(open_ai_categorization(grievance, cat_path))"
   ]
  },
  {
   "cell_type": "code",
   "execution_count": null,
   "metadata": {},
   "outputs": [],
   "source": []
  }
 ],
 "metadata": {
  "kernelspec": {
   "display_name": "rasa-env",
   "language": "python",
   "name": "python3"
  },
  "language_info": {
   "codemirror_mode": {
    "name": "ipython",
    "version": 3
   },
   "file_extension": ".py",
   "mimetype": "text/x-python",
   "name": "python",
   "nbconvert_exporter": "python",
   "pygments_lexer": "ipython3",
   "version": "3.12.3"
  }
 },
 "nbformat": 4,
 "nbformat_minor": 2
}
